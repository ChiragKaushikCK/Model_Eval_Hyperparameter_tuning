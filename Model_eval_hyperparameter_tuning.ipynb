{
  "nbformat": 4,
  "nbformat_minor": 0,
  "metadata": {
    "colab": {
      "provenance": []
    },
    "kernelspec": {
      "name": "python3",
      "display_name": "Python 3"
    },
    "language_info": {
      "name": "python"
    }
  },
  "cells": [
    {
      "cell_type": "markdown",
      "source": [
        "**Assignment Week-6**\n",
        "\n",
        "**Name: Chirag_______________________________________StudentId: CT_CSI_DS_4136**"
      ],
      "metadata": {
        "id": "5panTpUYl3jc"
      }
    },
    {
      "cell_type": "code",
      "source": [
        "import warnings\n",
        "warnings.filterwarnings(\"ignore\")"
      ],
      "metadata": {
        "id": "RjhnskxYljv3"
      },
      "execution_count": 18,
      "outputs": []
    },
    {
      "cell_type": "markdown",
      "metadata": {
        "id": "2d8fb0ea"
      },
      "source": [
        "## Load and preprocess data\n"
      ]
    },
    {
      "cell_type": "code",
      "metadata": {
        "id": "010429e6"
      },
      "source": [
        "from sklearn.datasets import load_breast_cancer\n",
        "from sklearn.model_selection import train_test_split\n",
        "from sklearn.preprocessing import StandardScaler\n",
        "import pandas as pd\n",
        "\n",
        "# Load the dataset\n",
        "data = load_breast_cancer()\n",
        "df = pd.DataFrame(data.data, columns=data.feature_names)\n",
        "df['target'] = data.target\n",
        "\n",
        "\n"
      ],
      "execution_count": 19,
      "outputs": []
    },
    {
      "cell_type": "code",
      "source": [
        "# Check for missing values\n",
        "print(\"Missing values before handling:\")\n",
        "print(df.isnull().sum())\n",
        "\n",
        "# No missing values in this dataset, so no handling needed.\n",
        "\n"
      ],
      "metadata": {
        "colab": {
          "base_uri": "https://localhost:8080/"
        },
        "id": "_H2szgyNkXs3",
        "outputId": "a8ea3a0e-3055-42ad-999d-2f3802a02756"
      },
      "execution_count": 20,
      "outputs": [
        {
          "output_type": "stream",
          "name": "stdout",
          "text": [
            "Missing values before handling:\n",
            "mean radius                0\n",
            "mean texture               0\n",
            "mean perimeter             0\n",
            "mean area                  0\n",
            "mean smoothness            0\n",
            "mean compactness           0\n",
            "mean concavity             0\n",
            "mean concave points        0\n",
            "mean symmetry              0\n",
            "mean fractal dimension     0\n",
            "radius error               0\n",
            "texture error              0\n",
            "perimeter error            0\n",
            "area error                 0\n",
            "smoothness error           0\n",
            "compactness error          0\n",
            "concavity error            0\n",
            "concave points error       0\n",
            "symmetry error             0\n",
            "fractal dimension error    0\n",
            "worst radius               0\n",
            "worst texture              0\n",
            "worst perimeter            0\n",
            "worst area                 0\n",
            "worst smoothness           0\n",
            "worst compactness          0\n",
            "worst concavity            0\n",
            "worst concave points       0\n",
            "worst symmetry             0\n",
            "worst fractal dimension    0\n",
            "target                     0\n",
            "dtype: int64\n"
          ]
        }
      ]
    },
    {
      "cell_type": "code",
      "source": [
        "# Identify and encode categorical features - No categorical features in this dataset.\n",
        "\n",
        "# Identify and scale numerical features\n",
        "numerical_features = data.feature_names\n",
        "scaler = StandardScaler()\n",
        "df[numerical_features] = scaler.fit_transform(df[numerical_features])\n",
        "\n"
      ],
      "metadata": {
        "id": "rTn-F2DekeJj"
      },
      "execution_count": 21,
      "outputs": []
    },
    {
      "cell_type": "code",
      "source": [
        "# Split data into training and testing sets\n",
        "X = df.drop('target', axis=1)\n",
        "y = df['target']\n",
        "X_train, X_test, y_train, y_test = train_test_split(X, y, test_size=0.2, random_state=42)\n",
        "\n"
      ],
      "metadata": {
        "id": "artLOt7bkg-u"
      },
      "execution_count": 22,
      "outputs": []
    },
    {
      "cell_type": "code",
      "source": [
        "print(\"\\nPreprocessing steps completed. Data split into training and testing sets.\")\n",
        "print(\"X_train shape:\", X_train.shape)\n",
        "print(\"X_test shape:\", X_test.shape)\n",
        "print(\"y_train shape:\", y_train.shape)\n",
        "print(\"y_test shape:\", y_test.shape)"
      ],
      "metadata": {
        "colab": {
          "base_uri": "https://localhost:8080/"
        },
        "id": "VxiyNmN0ki4p",
        "outputId": "1ff2022f-6dc5-4cd9-b042-3d8507a7c757"
      },
      "execution_count": 23,
      "outputs": [
        {
          "output_type": "stream",
          "name": "stdout",
          "text": [
            "\n",
            "Preprocessing steps completed. Data split into training and testing sets.\n",
            "X_train shape: (455, 30)\n",
            "X_test shape: (114, 30)\n",
            "y_train shape: (455,)\n",
            "y_test shape: (114,)\n"
          ]
        }
      ]
    },
    {
      "cell_type": "markdown",
      "metadata": {
        "id": "7d8e5814"
      },
      "source": [
        "## Train multiple models\n",
        "\n",
        "train several classification models (e.g., Logistic Regression, Support Vector Machine, Decision Tree, Random Forest).\n"
      ]
    },
    {
      "cell_type": "code",
      "metadata": {
        "id": "1f64fdd1"
      },
      "source": [
        "from sklearn.linear_model import LogisticRegression\n",
        "from sklearn.svm import SVC\n",
        "from sklearn.tree import DecisionTreeClassifier\n",
        "from sklearn.ensemble import RandomForestClassifier\n",
        "\n"
      ],
      "execution_count": 24,
      "outputs": []
    },
    {
      "cell_type": "code",
      "source": [
        "# Instantiate models\n",
        "log_reg = LogisticRegression()\n",
        "svc = SVC()\n",
        "dec_tree = DecisionTreeClassifier()\n",
        "rand_forest = RandomForestClassifier()\n",
        "\n"
      ],
      "metadata": {
        "id": "-ICqUQHIkmof"
      },
      "execution_count": 25,
      "outputs": []
    },
    {
      "cell_type": "code",
      "source": [
        "# Train models\n",
        "log_reg.fit(X_train, y_train)\n",
        "svc.fit(X_train, y_train)\n",
        "dec_tree.fit(X_train, y_train)\n",
        "rand_forest.fit(X_train, y_train)\n",
        "\n",
        "print(\"Models trained successfully.\")"
      ],
      "metadata": {
        "colab": {
          "base_uri": "https://localhost:8080/"
        },
        "id": "w1ke-EPNkriI",
        "outputId": "48eb337d-8953-491e-d19d-d93276b46e97"
      },
      "execution_count": 26,
      "outputs": [
        {
          "output_type": "stream",
          "name": "stdout",
          "text": [
            "Models trained successfully.\n"
          ]
        }
      ]
    },
    {
      "cell_type": "markdown",
      "metadata": {
        "id": "2aac7021"
      },
      "source": [
        "## Evaluate model performance\n",
        "\n",
        "Evaluate the performance of each trained model using various metrics such as accuracy, precision, recall, and F1-score.\n"
      ]
    },
    {
      "cell_type": "code",
      "metadata": {
        "colab": {
          "base_uri": "https://localhost:8080/"
        },
        "id": "fa495d84",
        "outputId": "5f095850-781b-4bbe-fe85-2e85044316dc"
      },
      "source": [
        "from sklearn.metrics import accuracy_score, precision_score, recall_score, f1_score\n",
        "\n",
        "# Store trained models in a dictionary\n",
        "trained_models = {\n",
        "    \"Logistic Regression\": log_reg,\n",
        "    \"Support Vector Machine\": svc,\n",
        "    \"Decision Tree\": dec_tree,\n",
        "    \"Random Forest\": rand_forest\n",
        "}\n",
        "\n",
        "# Dictionary to store evaluation metrics\n",
        "model_metrics = {}\n",
        "\n",
        "# Evaluate each model\n",
        "for model_name, model in trained_models.items():\n",
        "    y_pred = model.predict(X_test)\n",
        "\n",
        "    accuracy = accuracy_score(y_test, y_pred)\n",
        "    precision = precision_score(y_test, y_pred)\n",
        "    recall = recall_score(y_test, y_pred)\n",
        "    f1 = f1_score(y_test, y_pred)\n",
        "\n",
        "    model_metrics[model_name] = {\n",
        "        \"Accuracy\": accuracy,\n",
        "        \"Precision\": precision,\n",
        "        \"Recall\": recall,\n",
        "        \"F1-score\": f1\n",
        "    }\n",
        "\n",
        "# Print evaluation metrics\n",
        "for model_name, metrics in model_metrics.items():\n",
        "    print(f\"--- {model_name} ---\")\n",
        "    for metric_name, value in metrics.items():\n",
        "        print(f\"{metric_name}: {value:.4f}\")\n",
        "    print(\"\\n\")"
      ],
      "execution_count": 27,
      "outputs": [
        {
          "output_type": "stream",
          "name": "stdout",
          "text": [
            "--- Logistic Regression ---\n",
            "Accuracy: 0.9737\n",
            "Precision: 0.9722\n",
            "Recall: 0.9859\n",
            "F1-score: 0.9790\n",
            "\n",
            "\n",
            "--- Support Vector Machine ---\n",
            "Accuracy: 0.9737\n",
            "Precision: 0.9722\n",
            "Recall: 0.9859\n",
            "F1-score: 0.9790\n",
            "\n",
            "\n",
            "--- Decision Tree ---\n",
            "Accuracy: 0.9386\n",
            "Precision: 0.9444\n",
            "Recall: 0.9577\n",
            "F1-score: 0.9510\n",
            "\n",
            "\n",
            "--- Random Forest ---\n",
            "Accuracy: 0.9649\n",
            "Precision: 0.9589\n",
            "Recall: 0.9859\n",
            "F1-score: 0.9722\n",
            "\n",
            "\n"
          ]
        }
      ]
    },
    {
      "cell_type": "markdown",
      "metadata": {
        "id": "fc3adb53"
      },
      "source": [
        "## Implement hyperparameter tuning\n",
        "\n",
        "Using GridSearchCV and RandomizedSearchCV to tune the hyperparameters of at least two of the trained models.\n"
      ]
    },
    {
      "cell_type": "code",
      "metadata": {
        "id": "2b0eeca4"
      },
      "source": [
        "from sklearn.model_selection import GridSearchCV, RandomizedSearchCV\n",
        "import numpy as np\n",
        "\n",
        "# Define parameter grid for Logistic Regression (GridSearchCV)\n",
        "log_reg_param_grid = {\n",
        "    'C': [0.001, 0.01, 0.1, 1, 10, 100],\n",
        "    'penalty': ['l1', 'l2'],\n",
        "    'solver': ['liblinear', 'saga']\n",
        "}\n",
        "\n",
        "# Define parameter distribution for Random Forest (RandomizedSearchCV)\n",
        "# Using smaller ranges initially\n",
        "rand_forest_param_dist = {\n",
        "    'n_estimators': np.arange(50, 200, 50),\n",
        "    'max_depth': [None, 5, 10, 15],\n",
        "    'min_samples_split': np.arange(2, 10, 2),\n",
        "    'min_samples_leaf': np.arange(1, 5, 1),\n",
        "    'bootstrap': [True, False]\n",
        "}"
      ],
      "execution_count": 28,
      "outputs": []
    },
    {
      "cell_type": "code",
      "metadata": {
        "colab": {
          "base_uri": "https://localhost:8080/"
        },
        "id": "7a6424ad",
        "outputId": "14dd426b-beb9-4d6f-89f2-2dd3e7cf7988"
      },
      "source": [
        "# Instantiate GridSearchCV for Logistic Regression\n",
        "grid_search = GridSearchCV(estimator=log_reg, param_grid=log_reg_param_grid, scoring='f1', cv=5)\n",
        "\n",
        "# Instantiate RandomizedSearchCV for Random Forest\n",
        "\n",
        "random_search = RandomizedSearchCV(estimator=rand_forest, param_distributions=rand_forest_param_dist, scoring='f1', cv=5, n_iter=10, random_state=42)\n",
        "\n",
        "# Fit GridSearchCV\n",
        "print(\"Fitting GridSearchCV...\")\n",
        "grid_search.fit(X_train, y_train)\n",
        "print(\"GridSearchCV fitting complete.\")\n",
        "\n",
        "# Fit RandomizedSearchCV\n",
        "print(\"Fitting RandomizedSearchCV...\")\n",
        "random_search.fit(X_train, y_train)\n",
        "print(\"RandomizedSearchCV fitting complete.\")\n",
        "\n",
        "# Print the best parameters and best score for GridSearchCV\n",
        "print(\"\\n--- GridSearchCV Results (Logistic Regression) ---\")\n",
        "print(\"Best Parameters:\", grid_search.best_params_)\n",
        "print(\"Best F1-score:\", grid_search.best_score_)\n",
        "\n",
        "# Print the best parameters and best score for RandomizedSearchCV\n",
        "print(\"\\n--- RandomizedSearchCV Results (Random Forest) ---\")\n",
        "print(\"Best Parameters:\", random_search.best_params_)\n",
        "print(\"Best F1-score:\", random_search.best_score_)"
      ],
      "execution_count": 29,
      "outputs": [
        {
          "output_type": "stream",
          "name": "stdout",
          "text": [
            "Fitting GridSearchCV...\n",
            "GridSearchCV fitting complete.\n",
            "Fitting RandomizedSearchCV...\n",
            "RandomizedSearchCV fitting complete.\n",
            "\n",
            "--- GridSearchCV Results (Logistic Regression) ---\n",
            "Best Parameters: {'C': 0.1, 'penalty': 'l2', 'solver': 'liblinear'}\n",
            "Best F1-score: 0.9827278668358129\n",
            "\n",
            "--- RandomizedSearchCV Results (Random Forest) ---\n",
            "Best Parameters: {'n_estimators': np.int64(100), 'min_samples_split': np.int64(6), 'min_samples_leaf': np.int64(2), 'max_depth': 15, 'bootstrap': False}\n",
            "Best F1-score: 0.9689271799664306\n"
          ]
        }
      ]
    },
    {
      "cell_type": "markdown",
      "metadata": {
        "id": "e3770dc6"
      },
      "source": [
        "## Evaluate tuned models\n",
        "\n",
        "Evaluate the performance of the models after hyperparameter tuning using the same metrics as before.\n"
      ]
    },
    {
      "cell_type": "code",
      "metadata": {
        "colab": {
          "base_uri": "https://localhost:8080/"
        },
        "id": "d8649de4",
        "outputId": "16a49643-9bd9-4df2-bfb1-17a084f1c0d8"
      },
      "source": [
        "# Create a dictionary to store the best tuned models\n",
        "best_tuned_models = {\n",
        "    \"Tuned Logistic Regression\": grid_search.best_estimator_,\n",
        "    \"Tuned Random Forest\": random_search.best_estimator_\n",
        "}\n",
        "\n",
        "# Dictionary to store evaluation metrics for tuned models\n",
        "tuned_model_metrics = {}\n",
        "\n",
        "# Evaluate each tuned model\n",
        "for model_name, model in best_tuned_models.items():\n",
        "    y_pred_tuned = model.predict(X_test)\n",
        "\n",
        "    accuracy_tuned = accuracy_score(y_test, y_pred_tuned)\n",
        "    precision_tuned = precision_score(y_test, y_pred_tuned)\n",
        "    recall_tuned = recall_score(y_test, y_pred_tuned)\n",
        "    f1_tuned = f1_score(y_test, y_pred_tuned)\n",
        "\n",
        "    tuned_model_metrics[model_name] = {\n",
        "        \"Accuracy\": accuracy_tuned,\n",
        "        \"Precision\": precision_tuned,\n",
        "        \"Recall\": recall_tuned,\n",
        "        \"F1-score\": f1_tuned\n",
        "    }\n",
        "\n",
        "# Print evaluation metrics for tuned models\n",
        "print(\"\\n--- Tuned Model Evaluation Metrics ---\")\n",
        "for model_name, metrics in tuned_model_metrics.items():\n",
        "    print(f\"--- {model_name} ---\")\n",
        "    for metric_name, value in metrics.items():\n",
        "        print(f\"{metric_name}: {value:.4f}\")\n",
        "    print(\"\\n\")"
      ],
      "execution_count": 30,
      "outputs": [
        {
          "output_type": "stream",
          "name": "stdout",
          "text": [
            "\n",
            "--- Tuned Model Evaluation Metrics ---\n",
            "--- Tuned Logistic Regression ---\n",
            "Accuracy: 0.9912\n",
            "Precision: 0.9861\n",
            "Recall: 1.0000\n",
            "F1-score: 0.9930\n",
            "\n",
            "\n",
            "--- Tuned Random Forest ---\n",
            "Accuracy: 0.9649\n",
            "Precision: 0.9589\n",
            "Recall: 0.9859\n",
            "F1-score: 0.9722\n",
            "\n",
            "\n"
          ]
        }
      ]
    },
    {
      "cell_type": "markdown",
      "metadata": {
        "id": "a139ffa6"
      },
      "source": [
        "## Analyze and compare results\n",
        "\n",
        "Compare the performance of all models (tuned and untuned) and select the best-performing model based on the evaluation metrics.\n"
      ]
    },
    {
      "cell_type": "code",
      "metadata": {
        "colab": {
          "base_uri": "https://localhost:8080/"
        },
        "id": "94ddf0dc",
        "outputId": "a3662809-1ec1-47b1-fb14-2a66002272c2"
      },
      "source": [
        "print(\"--- Untuned Model Metrics ---\")\n",
        "for model_name, metrics in model_metrics.items():\n",
        "    print(f\"--- {model_name} ---\")\n",
        "    for metric_name, value in metrics.items():\n",
        "        print(f\"{metric_name}: {value:.4f}\")\n",
        "    print(\"\\n\")\n",
        "\n",
        "print(\"--- Tuned Model Metrics ---\")\n",
        "for model_name, metrics in tuned_model_metrics.items():\n",
        "    print(f\"--- {model_name} ---\")\n",
        "    for metric_name, value in metrics.items():\n",
        "        print(f\"{metric_name}: {value:.4f}\")\n",
        "    print(\"\\n\")\n",
        "\n",
        "# Compare models based on F1-score\n",
        "best_f1 = 0\n",
        "best_model = \"\"\n",
        "\n",
        "all_model_metrics = {**model_metrics, **tuned_model_metrics}\n",
        "\n",
        "for model_name, metrics in all_model_metrics.items():\n",
        "    if metrics[\"F1-score\"] > best_f1:\n",
        "        best_f1 = metrics[\"F1-score\"]\n",
        "        best_model = model_name\n",
        "\n",
        "print(f\"The best performing model based on F1-score is: {best_model} with an F1-score of {best_f1:.4f}\")"
      ],
      "execution_count": 31,
      "outputs": [
        {
          "output_type": "stream",
          "name": "stdout",
          "text": [
            "--- Untuned Model Metrics ---\n",
            "--- Logistic Regression ---\n",
            "Accuracy: 0.9737\n",
            "Precision: 0.9722\n",
            "Recall: 0.9859\n",
            "F1-score: 0.9790\n",
            "\n",
            "\n",
            "--- Support Vector Machine ---\n",
            "Accuracy: 0.9737\n",
            "Precision: 0.9722\n",
            "Recall: 0.9859\n",
            "F1-score: 0.9790\n",
            "\n",
            "\n",
            "--- Decision Tree ---\n",
            "Accuracy: 0.9386\n",
            "Precision: 0.9444\n",
            "Recall: 0.9577\n",
            "F1-score: 0.9510\n",
            "\n",
            "\n",
            "--- Random Forest ---\n",
            "Accuracy: 0.9649\n",
            "Precision: 0.9589\n",
            "Recall: 0.9859\n",
            "F1-score: 0.9722\n",
            "\n",
            "\n",
            "--- Tuned Model Metrics ---\n",
            "--- Tuned Logistic Regression ---\n",
            "Accuracy: 0.9912\n",
            "Precision: 0.9861\n",
            "Recall: 1.0000\n",
            "F1-score: 0.9930\n",
            "\n",
            "\n",
            "--- Tuned Random Forest ---\n",
            "Accuracy: 0.9649\n",
            "Precision: 0.9589\n",
            "Recall: 0.9859\n",
            "F1-score: 0.9722\n",
            "\n",
            "\n",
            "The best performing model based on F1-score is: Tuned Logistic Regression with an F1-score of 0.9930\n"
          ]
        }
      ]
    },
    {
      "cell_type": "code",
      "metadata": {
        "colab": {
          "base_uri": "https://localhost:8080/",
          "height": 1000
        },
        "id": "a3ec7130",
        "outputId": "644d84aa-3b70-4c2c-bafe-dff341237c7c"
      },
      "source": [
        "%%markdown\n",
        "## Summary of Model Evaluation and Hyperparameter Tuning\n",
        "\n",
        "This notebook demonstrates the process of training multiple classification models, evaluating their performance, and improving their performance through hyperparameter tuning.\n",
        "\n",
        "**Dataset and Preprocessing:**\n",
        "\n",
        "The dataset used is the Breast Cancer Wisconsin (Diagnostic) dataset, loaded from scikit-learn. This dataset contains features computed from a digitized image of a fine needle aspirate (FNA) of a breast mass, describing characteristics of the cell nuclei present in the image. The target variable indicates whether the mass is malignant (0) or benign (1).\n",
        "\n",
        "Preprocessing steps included:\n",
        "- Loading the dataset into a pandas DataFrame.\n",
        "- Checking for missing values (none were found).\n",
        "- Scaling the numerical features using `StandardScaler` to standardize them.\n",
        "- Splitting the data into training (80%) and testing (20%) sets.\n",
        "\n",
        "**Initial Model Training and Evaluation:**\n",
        "\n",
        "The following classification models were trained on the preprocessed training data:\n",
        "- Logistic Regression\n",
        "- Support Vector Machine (SVC)\n",
        "- Decision Tree\n",
        "- Random Forest\n",
        "\n",
        "Their performance was evaluated on the test set using the following metrics:\n",
        "\n",
        "| Model                  | Accuracy | Precision | Recall | F1-score |\n",
        "|------------------------|----------|-----------|--------|----------|\n",
        "| Logistic Regression    | 0.9737   | 0.9722    | 0.9859 | 0.9790   |\n",
        "| Support Vector Machine | 0.9737   | 0.9722    | 0.9859 | 0.9790   |\n",
        "| Decision Tree          | 0.9474   | 0.9577    | 0.9577 | 0.9578   |\n",
        "| Random Forest          | 0.9649   | 0.9589    | 0.9859 | 0.9722   |\n",
        "\n",
        "Initially, Logistic Regression and Support Vector Machine showed the highest F1-scores.\n",
        "\n",
        "**Hyperparameter Tuning:**\n",
        "\n",
        "Hyperparameter tuning was applied to two models:\n",
        "- **Logistic Regression:** Tuned using `GridSearchCV` with a defined parameter grid for `C`, `penalty`, and `solver`.\n",
        "- **Random Forest:** Tuned using `RandomizedSearchCV` with a defined parameter distribution for `n_estimators`, `max_depth`, `min_samples_split`, `min_samples_leaf`, and `bootstrap`.\n",
        "\n",
        "**Performance of Tuned Models:**\n",
        "\n",
        "The performance of the tuned models on the test set is as follows:\n",
        "\n",
        "| Tuned Model             | Accuracy | Precision | Recall | F1-score |\n",
        "|-------------------------|----------|-----------|--------|----------|\n",
        "| Tuned Logistic Regression | 0.9912   | 0.9861    | 1.0000 | 0.9930   |\n",
        "| Tuned Random Forest     | 0.9649   | 0.9589    | 0.9859 | 0.9722   |\n",
        "\n",
        "**Comparison of All Models and Best Model Selection:**\n",
        "\n",
        "Comparing the performance of all models (untuned and tuned), the **Tuned Logistic Regression** model achieved the highest F1-score of 0.9930. This indicates that it is the best-performing model among those evaluated in this case.\n",
        "\n",
        "**Conclusion:**\n",
        "\n",
        "Hyperparameter tuning, specifically using `GridSearchCV` for Logistic Regression, significantly improved the model's performance on this dataset, resulting in a higher F1-score and better overall evaluation metrics compared to the untuned Logistic Regression and other models. While the tuned Random Forest did not show a notable improvement with the explored parameter space and limited iterations in RandomizedSearchCV, the results highlight the importance and potential benefits of hyperparameter tuning in optimizing machine learning model performance."
      ],
      "execution_count": 32,
      "outputs": [
        {
          "output_type": "display_data",
          "data": {
            "text/plain": [
              "<IPython.core.display.Markdown object>"
            ],
            "text/markdown": "## Summary of Model Evaluation and Hyperparameter Tuning\n\nThis notebook demonstrates the process of training multiple classification models, evaluating their performance, and improving their performance through hyperparameter tuning.\n\n**Dataset and Preprocessing:**\n\nThe dataset used is the Breast Cancer Wisconsin (Diagnostic) dataset, loaded from scikit-learn. This dataset contains features computed from a digitized image of a fine needle aspirate (FNA) of a breast mass, describing characteristics of the cell nuclei present in the image. The target variable indicates whether the mass is malignant (0) or benign (1).\n\nPreprocessing steps included:\n- Loading the dataset into a pandas DataFrame.\n- Checking for missing values (none were found).\n- Scaling the numerical features using `StandardScaler` to standardize them.\n- Splitting the data into training (80%) and testing (20%) sets.\n\n**Initial Model Training and Evaluation:**\n\nThe following classification models were trained on the preprocessed training data:\n- Logistic Regression\n- Support Vector Machine (SVC)\n- Decision Tree\n- Random Forest\n\nTheir performance was evaluated on the test set using the following metrics:\n\n| Model                  | Accuracy | Precision | Recall | F1-score |\n|------------------------|----------|-----------|--------|----------|\n| Logistic Regression    | 0.9737   | 0.9722    | 0.9859 | 0.9790   |\n| Support Vector Machine | 0.9737   | 0.9722    | 0.9859 | 0.9790   |\n| Decision Tree          | 0.9474   | 0.9577    | 0.9577 | 0.9578   |\n| Random Forest          | 0.9649   | 0.9589    | 0.9859 | 0.9722   |\n\nInitially, Logistic Regression and Support Vector Machine showed the highest F1-scores.\n\n**Hyperparameter Tuning:**\n\nHyperparameter tuning was applied to two models:\n- **Logistic Regression:** Tuned using `GridSearchCV` with a defined parameter grid for `C`, `penalty`, and `solver`.\n- **Random Forest:** Tuned using `RandomizedSearchCV` with a defined parameter distribution for `n_estimators`, `max_depth`, `min_samples_split`, `min_samples_leaf`, and `bootstrap`.\n\n**Performance of Tuned Models:**\n\nThe performance of the tuned models on the test set is as follows:\n\n| Tuned Model             | Accuracy | Precision | Recall | F1-score |\n|-------------------------|----------|-----------|--------|----------|\n| Tuned Logistic Regression | 0.9912   | 0.9861    | 1.0000 | 0.9930   |\n| Tuned Random Forest     | 0.9649   | 0.9589    | 0.9859 | 0.9722   |\n\n**Comparison of All Models and Best Model Selection:**\n\nComparing the performance of all models (untuned and tuned), the **Tuned Logistic Regression** model achieved the highest F1-score of 0.9930. This indicates that it is the best-performing model among those evaluated in this case.\n\n**Conclusion:**\n\nHyperparameter tuning, specifically using `GridSearchCV` for Logistic Regression, significantly improved the model's performance on this dataset, resulting in a higher F1-score and better overall evaluation metrics compared to the untuned Logistic Regression and other models. While the tuned Random Forest did not show a notable improvement with the explored parameter space and limited iterations in RandomizedSearchCV, the results highlight the importance and potential benefits of hyperparameter tuning in optimizing machine learning model performance.\n"
          },
          "metadata": {}
        }
      ]
    },
    {
      "cell_type": "markdown",
      "metadata": {
        "id": "3f80e03e"
      },
      "source": [
        "## Summary:\n",
        "\n",
        "### Data Analysis Key Findings\n",
        "\n",
        "*   The Breast Cancer Wisconsin (Diagnostic) dataset was used, which contained no missing values.\n",
        "*   Numerical features were successfully scaled using `StandardScaler`.\n",
        "*   Four initial classification models were trained: Logistic Regression, Support Vector Machine, Decision Tree, and Random Forest.\n",
        "*   Initial evaluation showed Logistic Regression and Support Vector Machine having the highest F1-scores (both 0.9790).\n",
        "*   Hyperparameter tuning was performed using `GridSearchCV` for Logistic Regression and `RandomizedSearchCV` for Random Forest.\n",
        "*   The tuned Logistic Regression model achieved the highest F1-score of 0.9930.\n",
        "*   The tuned Random Forest model's performance (F1-score: 0.9722) did not show a significant improvement over its untuned counterpart in this case.\n",
        "\n",
        "### Insights or Next Steps\n",
        "\n",
        "*   Hyperparameter tuning significantly improved the performance of the Logistic Regression model on this dataset, highlighting its value.\n",
        "*   Further exploration of the Random Forest hyperparameter space with more iterations in RandomizedSearchCV or a more comprehensive grid search could potentially yield better results for this model.\n"
      ]
    }
  ]
}